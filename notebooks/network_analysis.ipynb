{
    "cells": [
        {
            "cell_type": "markdown",
            "metadata": {},
            "source": [
                "# Network Analysis with BigQuery\n",
                "## Bachelor Thesis Data Analysis\n",
                "\n",
                "This notebook contains templates and utilities for analyzing social network data stored in BigQuery."
            ]
        },
        {
            "cell_type": "code",
            "execution_count": null,
            "metadata": {},
            "source": [
                "# Enable inline plotting\n",
                "%matplotlib inline"
            ]
        },
        {
            "cell_type": "markdown",
            "metadata": {},
            "source": [
                "## 1. Setup and Configuration\n",
                "\n",
                "Import libraries and set up BigQuery connections."
            ]
        },
        {
            "cell_type": "code",
            "execution_count": null,
            "metadata": {},
            "source": [
                "# Data handling and analysis\n",
                "import pandas as pd\n",
                "import numpy as np\n",
                "from datetime import datetime, timedelta\n",
                "\n",
                "# BigQuery\n",
                "from google.cloud import bigquery\n",
                "from google.cloud.exceptions import GoogleCloudError\n",
                "\n",
                "# Visualization\n",
                "import matplotlib.pyplot as plt\n",
                "import seaborn as sns\n",
                "import matplotlib.dates as mdates\n",
                "from matplotlib.colors import LinearSegmentedColormap\n",
                "\n",
                "# Configure plotting\n",
                "plt.style.use('seaborn-v0_8-whitegrid')\n",
                "plt.rcParams['figure.figsize'] = (12, 6)\n",
                "plt.rcParams['font.family'] = 'serif'\n",
                "plt.rcParams['axes.labelsize'] = 12\n",
                "plt.rcParams['axes.titlesize'] = 14\n",
                "\n",
                "# Define colors\n",
                "colors = ['#4C72B0', '#55A868', '#C44E52', '#8172B2', '#CCB974']\n",
                "sns.set_palette(sns.color_palette(colors))"
            ]
        },
        {
            "cell_type": "code",
            "execution_count": null,
            "metadata": {},
            "source": [
                "# BigQuery configuration\n",
                "project_id = \"grounded-nebula-408412\"\n",
                "dataset = \"python_src\"\n",
                "\n",
                "# Initialize BigQuery client\n",
                "client = bigquery.Client(project=project_id)"
            ]
        },
        {
            "cell_type": "markdown",
            "metadata": {},
            "source": [
                "## 2. BigQuery Utilities\n",
                "\n",
                "This section includes utility functions for working with BigQuery:\n",
                "- List all tables in the dataset\n",
                "- Retrieve the schema of a specific table"
            ]
        },
        {
            "cell_type": "code",
            "execution_count": null,
            "metadata": {},
            "source": [
                "def list_tables():\n",
                "    \"\"\"List all tables in the dataset.\"\"\"\n",
                "    try:\n",
                "        dataset_ref = client.dataset(dataset)\n",
                "        tables = list(client.list_tables(dataset_ref))\n",
                "        table_names = [table.table_id for table in tables]\n",
                "        print(\"Tables in dataset:\")\n",
                "        for table in table_names:\n",
                "            print(f\"- {table}\")\n",
                "    except GoogleCloudError as e:\n",
                "        print(f\"Error listing tables: {str(e)}\")"
            ]
        },
        {
            "cell_type": "code",
            "execution_count": null,
            "metadata": {},
            "source": [
                "def get_table_schema(table_id):\n",
                "    \"\"\"Retrieve the schema of a given BigQuery table.\"\"\"\n",
                "    try:\n",
                "        table_ref = client.dataset(dataset).table(table_id)\n",
                "        table = client.get_table(table_ref)\n",
                "        schema_df = pd.DataFrame([\n",
                "            {\"Column Name\": field.name, \"Data Type\": field.field_type, \"Mode\": field.mode}\n",
                "            for field in table.schema\n",
                "        ])\n",
                "        return schema_df\n",
                "    except GoogleCloudError as e:\n",
                "        print(f\"Error fetching schema: {str(e)}\")\n",
                "        return pd.DataFrame()"
            ]
        },
        {
            "cell_type": "markdown",
            "metadata": {},
            "source": [
                "### Example Usage\n",
                "\n",
                "To list all tables in the dataset:\n",
                "```python\n",
                "list_tables()\n",
                "```\n",
                "\n",
                "To get the schema of a specific table:\n",
                "```python\n",
                "get_table_schema('your_table_name')\n",
                "```"
            ]
        },
        {
            "cell_type": "markdown",
            "metadata": {},
            "source": [
                "## 3. Query Execution Function"
            ]
        },
        {
            "cell_type": "code",
            "execution_count": null,
            "metadata": {},
            "source": [
                "def run_query(query, use_cache=True):\n",
                "    \"\"\"Execute a BigQuery query and return results as a DataFrame.\"\"\"\n",
                "    try:\n",
                "        job_config = bigquery.QueryJobConfig(use_query_cache=use_cache)\n",
                "        query_job = client.query(query, job_config=job_config)\n",
                "        return query_job.to_dataframe()\n",
                "    except GoogleCloudError as e:\n",
                "        print(f\"Error executing query: {str(e)}\")\n",
                "        return pd.DataFrame()"
            ]
        },
        {
            "cell_type": "markdown",
            "metadata": {},
            "source": [
                "## 4. Network Size Visualization"
            ]
        },
        {
            "cell_type": "code",
            "execution_count": null,
            "metadata": {},
            "source": [
                "# Query and visualize network size over time\n",
                "size_query = f\"\"\"\n",
                "SELECT month_start, nodes, edges, density\n",
                "FROM `{project_id}.{dataset}.python_network_climate_network_metrics`\n",
                "ORDER BY month_start\n",
                "\"\"\"\n",
                "size_df = run_query(size_query)\n",
                "\n",
                "# Convert date column\n",
                "size_df['month_start'] = pd.to_datetime(size_df['month_start'])\n",
                "\n",
                "# Plot network size metrics\n",
                "fig, ax = plt.subplots(figsize=(12, 6))\n",
                "ax.plot(size_df['month_start'], size_df['nodes'], marker='o', color=colors[0], label='Nodes')\n",
                "ax.plot(size_df['month_start'], size_df['edges'], marker='s', color=colors[1], label='Edges')\n",
                "ax.set_title('Climate Network Size Over Time')\n",
                "ax.set_xlabel('Month')\n",
                "ax.set_ylabel('Count')\n",
                "ax.legend()\n",
                "\n",
                "# Create secondary y-axis for density\n",
                "ax2 = ax.twinx()\n",
                "ax2.plot(size_df['month_start'], size_df['density'], color=colors[2], linestyle='--', marker='^', label='Density')\n",
                "ax2.set_ylabel('Density', color=colors[2])\n",
                "ax2.tick_params(axis='y', colors=colors[2])\n",
                "\n",
                "# Format x-axis dates\n",
                "ax.xaxis.set_major_formatter(mdates.DateFormatter('%Y-%m'))\n",
                "plt.xticks(rotation=45)\n",
                "plt.tight_layout()\n",
                "plt.show()"
            ]
        }
    ],
    "metadata": {
        "kernelspec": {
            "display_name": "Python 3",
            "language": "python",
            "name": "python3"
        },
        "language_info": {
            "name": "python",
            "version": "3.9.7"
        }
    },
    "nbformat": 4,
    "nbformat_minor": 4
}